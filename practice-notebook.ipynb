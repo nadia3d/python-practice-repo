{
 "cells": [
  {
   "cell_type": "markdown",
   "metadata": {},
   "source": [
    "Task 1\n",
    "\n",
    "Write a function that takes a list of strings and a name as an input and returns a boolean value that indicates if the name is present in the list. Do this by using a for-loop.\n"
   ]
  },
  {
   "cell_type": "code",
   "execution_count": null,
   "metadata": {},
   "outputs": [],
   "source": [
    "def checkName(listOfNames,Name):\n",
    "    for name in listOfNames:\n",
    "        if name == Name:\n",
    "            return True\n",
    "        else:\n",
    "            print('thats not my name.')\n",
    "            return False\n",
    "            \n",
    "\n",
    "list = ['Nadia' , 'notNadia' , 'defNotNadia']\n",
    "myName = 'notNadia'\n",
    "checkName(list,myName)  \n"
   ]
  },
  {
   "cell_type": "markdown",
   "metadata": {},
   "source": [
    "Task 2\n",
    "\n",
    "\n",
    "Write a while loop that adds all the numbers up to 100 (inclusive).\n",
    "The answer should be 5050\n"
   ]
  },
  {
   "cell_type": "code",
   "execution_count": null,
   "metadata": {},
   "outputs": [],
   "source": [
    "counter = 0\n",
    "thaSum = 0\n",
    "while counter < 100:\n",
    "    thaSum += counter + 1\n",
    "    counter += 1\n",
    "    print(thaSum)\n",
    "  "
   ]
  }
 ],
 "metadata": {
  "kernelspec": {
   "display_name": "Python 3.10.8 64-bit",
   "language": "python",
   "name": "python3"
  },
  "language_info": {
   "codemirror_mode": {
    "name": "ipython",
    "version": 3
   },
   "file_extension": ".py",
   "mimetype": "text/x-python",
   "name": "python",
   "nbconvert_exporter": "python",
   "pygments_lexer": "ipython3",
   "version": "3.10.8"
  },
  "orig_nbformat": 4,
  "vscode": {
   "interpreter": {
    "hash": "25759ddffe5ba3af3c29cfc76720c4355e55321fe1aceed06d16227b0eb342a9"
   }
  }
 },
 "nbformat": 4,
 "nbformat_minor": 2
}
