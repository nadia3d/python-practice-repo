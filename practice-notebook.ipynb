{
 "cells": [
  {
   "cell_type": "code",
   "execution_count": null,
   "metadata": {},
   "outputs": [],
   "source": [
    "while True:\n",
    "    print('Please type your name.')\n",
    "    name = input()\n",
    "    if name == 'your name':\n",
    "        break\n",
    "print('Thank you!')\n"
   ]
  },
  {
   "cell_type": "code",
   "execution_count": null,
   "metadata": {},
   "outputs": [],
   "source": [
    "while True:\n",
    "    print('Who are you?')\n",
    "    name = input()\n",
    "    if name != 'Joe':\n",
    "        continue\n",
    "    print('Hello, Joe. What is the password? (It is a fish.)')\n",
    "    password = input()\n",
    "    if password == 'swordfish':\n",
    "        break\n",
    "print('Access granted.')"
   ]
  },
  {
   "cell_type": "code",
   "execution_count": null,
   "metadata": {},
   "outputs": [],
   "source": [
    "a = 1\n",
    "print(a)\n",
    "for i in range(11):\n",
    "    a = a + 1\n",
    "    print(a)"
   ]
  },
  {
   "cell_type": "code",
   "execution_count": null,
   "metadata": {},
   "outputs": [],
   "source": [
    "\n",
    "\n",
    "\n",
    "def sum_list(list_of_integers):\n",
    "  \n",
    "    for i in list_of_integers:\n",
    "        our_sum = 0\n",
    "        our_sum = our_sum + i\n",
    "        return our_sum\n",
    "\n",
    "\n",
    "list1 = [4, 1 , 5 ,6]\n",
    "sum_list(list1)\n",
    "\n"
   ]
  },
  {
   "cell_type": "code",
   "execution_count": null,
   "metadata": {},
   "outputs": [],
   "source": [
    "def greaterThenFour(list_of_floats):\n",
    "    for i in list_of_floats:\n",
    "        if i > 4:\n",
    "             print(i) \n",
    "            \n",
    "list2 = [12,15,32,55]\n",
    "\n",
    "print (greaterThenFour(list2))"
   ]
  },
  {
   "cell_type": "markdown",
   "metadata": {},
   "source": [
    "Task 1\n",
    "\n",
    "Write a function that takes a list of strings and a name as an input and returns a boolean value that indicates if the name is present in the list. Do this by using a for-loop.\n"
   ]
  },
  {
   "cell_type": "code",
   "execution_count": null,
   "metadata": {},
   "outputs": [],
   "source": [
    "def checkName(listOfNames,Name):\n",
    "    for name in listOfNames:\n",
    "        if name == Name:\n",
    "            return True\n",
    "        else:\n",
    "            print('thats not my name.')\n",
    "            return False\n",
    "            \n",
    "\n",
    "list = ['Nadia' , 'notNadia' , 'defNotNadia']\n",
    "myName = 'notNadia'\n",
    "checkName(list,myName)  \n"
   ]
  },
  {
   "cell_type": "markdown",
   "metadata": {},
   "source": [
    "Task 2\n",
    "\n",
    "\n",
    "Write a while loop that adds all the numbers up to 100 (inclusive).\n",
    "The answer should be 5050\n"
   ]
  },
  {
   "cell_type": "code",
   "execution_count": 4,
   "metadata": {},
   "outputs": [
    {
     "ename": "IndentationError",
     "evalue": "expected an indented block after 'for' statement on line 4 (1007351231.py, line 5)",
     "output_type": "error",
     "traceback": [
      "\u001b[1;36m  Cell \u001b[1;32mIn [4], line 5\u001b[1;36m\u001b[0m\n\u001b[1;33m    print (counter)\u001b[0m\n\u001b[1;37m    ^\u001b[0m\n\u001b[1;31mIndentationError\u001b[0m\u001b[1;31m:\u001b[0m expected an indented block after 'for' statement on line 4\n"
     ]
    }
   ],
   "source": [
    "counter = 0\n",
    "while counter < 100:\n",
    "    counter = counter + 1\n",
    "    for i in range(1,100):\n",
    "        print (counter)"
   ]
  }
 ],
 "metadata": {
  "kernelspec": {
   "display_name": "Python 3.10.8 64-bit",
   "language": "python",
   "name": "python3"
  },
  "language_info": {
   "codemirror_mode": {
    "name": "ipython",
    "version": 3
   },
   "file_extension": ".py",
   "mimetype": "text/x-python",
   "name": "python",
   "nbconvert_exporter": "python",
   "pygments_lexer": "ipython3",
   "version": "3.10.8"
  },
  "orig_nbformat": 4,
  "vscode": {
   "interpreter": {
    "hash": "25759ddffe5ba3af3c29cfc76720c4355e55321fe1aceed06d16227b0eb342a9"
   }
  }
 },
 "nbformat": 4,
 "nbformat_minor": 2
}
