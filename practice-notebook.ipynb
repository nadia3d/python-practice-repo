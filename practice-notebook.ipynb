{
 "cells": [
  {
   "cell_type": "markdown",
   "metadata": {},
   "source": [
    "Task 1\n",
    "\n",
    "Write a function that takes a list of strings and a name as an input and returns a boolean value that indicates if the name is present in the list. Do this by using a for-loop.\n"
   ]
  },
  {
   "cell_type": "code",
   "execution_count": null,
   "metadata": {},
   "outputs": [],
   "source": [
    "def checkName(listOfNames,Name):\n",
    "    for name in listOfNames:\n",
    "        if name == Name:\n",
    "            return True\n",
    "        else:\n",
    "            print('thats not my name.')\n",
    "            return False\n",
    "            \n",
    "\n",
    "list = ['Nadia' , 'notNadia' , 'defNotNadia']\n",
    "myName = 'notNadia'\n",
    "checkName(list,myName)  \n"
   ]
  },
  {
   "cell_type": "markdown",
   "metadata": {},
   "source": [
    "Task 2\n",
    "\n",
    "\n",
    "Write a while loop that adds all the numbers up to 100 (inclusive).\n",
    "The answer should be 5050\n"
   ]
  },
  {
   "cell_type": "code",
   "execution_count": null,
   "metadata": {},
   "outputs": [],
   "source": [
    "counter = 0\n",
    "thaSum = 0\n",
    "while counter < 100:\n",
    "    thaSum += counter + 1\n",
    "    counter += 1\n",
    "    print(thaSum)\n",
    "  "
   ]
  },
  {
   "cell_type": "markdown",
   "metadata": {},
   "source": [
    "Task 3 + 4 are (Optional)\n",
    "\n",
    "Write a function that starts with any integer value. As long as the value is smaller than 10 000 000 do the following three steps.\n",
    "\n",
    "add 10 to the current value (in the first iteration its your starting value)\n",
    "multiply the value with a quarter of the value x * (x/4)\n",
    "divide the value by seven\n",
    "\n",
    "return the resulting number as well as the number of iterations.\n",
    "Here are some validation  examples:\n",
    "\n",
    "your_function(0) → number: 486675231.5986306 iterations: 11\n",
    "your_function(5) → number: 304680029941.50604 iterations: 10\n",
    "your_function(42) → number: 66422899372.8935 iterations: 5\n",
    "your_function(133) → number: 13697799.8678026 iterations: 3\n",
    "\n",
    "Follow up.\n",
    "\n",
    "Now write a function that calls your function for all numbers starting with 0 and ending with 150. The function should return the maximum number possible, the starting number and the iterations it took.\n",
    "The answer is:\n",
    "max_number = 3409247150059.4326 iterations: 4  starting_number: 127\n",
    "\n"
   ]
  },
  {
   "cell_type": "code",
   "execution_count": null,
   "metadata": {},
   "outputs": [],
   "source": [
    "\n",
    "def anyInt(val):\n",
    "    iterations = 0\n",
    "    while val < 10000000:\n",
    "        val = (val + 10)\n",
    "        val = val*(val/4)\n",
    "        val = val/7\n",
    "        iterations += 1\n",
    "    return val, iterations\n",
    "\n",
    "# returnvalue, something = anyInt(5)\n",
    "# print(returnvalue, something)\n",
    "\n",
    "# def anyIntTwo(starting_number):\n",
    "  \n",
    "#     for i in range(150):\n",
    "#        anyInt(starting_number)\n",
    "            \n",
    "#     return starting_number,anyInt(starting_number)\n",
    "\n",
    "# anyIntTwo(127)\n",
    "\n",
    "max_number = 0\n",
    "interations_max_number = 0\n",
    "starting_number = 0\n",
    "\n",
    "def maxNumber(starting_number):\n",
    "    for i in range(151):\n",
    "        if \n",
    "        return \n",
    "        \n"
   ]
  },
  {
   "cell_type": "markdown",
   "metadata": {},
   "source": [
    "Task 1: Write a function last_word() that takes a list of strings as argument and returns the string with the most final letter at its beginning. E.g. last_word([“redi”, “school”, “is”, “nice”]) must return ”school”, because “s” in “school” comes after “redi”, “is” and “nice” in the alphabet.\n",
    "Use the built-in function sorted() to achieve this."
   ]
  },
  {
   "cell_type": "code",
   "execution_count": null,
   "metadata": {},
   "outputs": [],
   "source": [
    "# def find_last_char(list):\n",
    "#     return\n",
    "#     list[-1]\n",
    "\n",
    "\n",
    "def last_word(list):\n",
    "    list = sorted(list)\n",
    "    return list[-1]\n",
    "\n",
    "theList = ['redi', 'school', 'is', 'nice']\n",
    "print(last_word(theList))\n",
    "\n",
    "\n",
    "\n"
   ]
  },
  {
   "cell_type": "markdown",
   "metadata": {},
   "source": [
    "Task 2: Write a function print_file() that prints all contents\n",
    "of a file. Look for an appropriate built-in function to achieve this.\n",
    "IMPORTANT note for all Windows users: On Windows, when you write a path as string, you must use double backslash \\\\ to represent a Path as string. e.g. \"C:\\\\Users\\\\username\\\\Desktop\", and NOT\n",
    "\"C:\\Users\\username\\Desktop\" !"
   ]
  },
  {
   "cell_type": "code",
   "execution_count": null,
   "metadata": {},
   "outputs": [],
   "source": [
    "f = open('./print_this_file.txt','r')\n",
    "file_contents = f.read()\n",
    "print(file_contents)\n",
    "f.close()\n"
   ]
  },
  {
   "cell_type": "markdown",
   "metadata": {},
   "source": [
    "Task 3: Program a dice() function. The function should take no arguments and return any number between 1 and 6 randomly.\n",
    "Use the random library."
   ]
  },
  {
   "cell_type": "code",
   "execution_count": null,
   "metadata": {},
   "outputs": [],
   "source": [
    "import random\n",
    "\n",
    "def dice():\n",
    "    return random.randint(0, 6)\n",
    "\n",
    "dice()"
   ]
  },
  {
   "cell_type": "markdown",
   "metadata": {},
   "source": [
    "Task 4: “Uh, Christmas Eve is on a Friday I believe?” Write a function weekday_by_date() that accepts a string with format “dd-mm-yyyy” as argument and returns the weekday of this date. E.g. weekday_by_date(“24-12-2022”) must return “Saturday”.\n",
    "Use the datetime library."
   ]
  },
  {
   "cell_type": "code",
   "execution_count": null,
   "metadata": {},
   "outputs": [],
   "source": [
    "import datetime\n",
    "\n",
    "def weekday_by_date(myDate):\n",
    "    nonIso = datetime.date.fromisoformat(myDate)\n",
    "    return nonIso.weekday\n",
    "\n",
    "theDate = '24-12-2022'\n",
    "weekday_by_date(theDate)\n",
    "\n",
    "\n",
    "\n",
    "\n",
    "# isoDate = datetime.date(2002, 12, 4).isoformat()\n",
    "# print (isoDate)\n",
    "# datetime.date(2002, 12, 4).weekday()\n",
    "\n",
    "\n",
    "\n"
   ]
  },
  {
   "cell_type": "code",
   "execution_count": null,
   "metadata": {},
   "outputs": [],
   "source": [
    "import datetime\n",
    "date(2012, 12, 4).isoformat()"
   ]
  },
  {
   "cell_type": "code",
   "execution_count": null,
   "metadata": {},
   "outputs": [],
   "source": [
    "from datetime import date\n",
    "date.fromisoformat('2019-12-04')"
   ]
  },
  {
   "cell_type": "code",
   "execution_count": null,
   "metadata": {},
   "outputs": [],
   "source": [
    "a = (\"b\", \"g\", \"a\", \"d\", \"f\", \"c\", \"h\", \"e\")\n",
    "x = sorted(a, reverse=True)\n",
    "print(x)"
   ]
  },
  {
   "cell_type": "markdown",
   "metadata": {},
   "source": [
    "Write a function that takes in a list of strings as an argument and returns it sorted by length.\n",
    "\n",
    "→ Example:\n",
    "\t[\"unsorted\", \"list\", \"of\", \"strings!\"] → ['of', 'list', 'unsorted', 'strings!']\n"
   ]
  },
  {
   "cell_type": "code",
   "execution_count": 83,
   "metadata": {},
   "outputs": [
    {
     "data": {
      "text/plain": [
       "['bye', 'zeee', 'hello']"
      ]
     },
     "execution_count": 83,
     "metadata": {},
     "output_type": "execute_result"
    }
   ],
   "source": [
    "def sortByLength(list):\n",
    "   return sorted(list, key=len)\n",
    "\n",
    "myList = ('zeee', 'hello', 'bye')\n",
    "sortByLength(myList)\n",
    "\n"
   ]
  },
  {
   "cell_type": "markdown",
   "metadata": {},
   "source": [
    "Recall that a dict in Python maps keys → values. Write a function that takes in two arguments, a dictionary and a value, and returns True if the value is in the dictionary and False if not.\n",
    "\n",
    "→ Examples:\n",
    "\t{\"name\": \"Karla\", \"age\": 25, \"city\": \"Berlin\"}, \"Berlin\" → True\n",
    "\t{\"name\": \"Karla\", \"age\": 25, \"city\": \"Berlin\"}, \"city\" → False (“city” is a key, not a value)\n"
   ]
  },
  {
   "cell_type": "code",
   "execution_count": 85,
   "metadata": {},
   "outputs": [
    {
     "data": {
      "text/plain": [
       "False"
      ]
     },
     "execution_count": 85,
     "metadata": {},
     "output_type": "execute_result"
    }
   ],
   "source": [
    "def inThisDict(dict,val):\n",
    "    if val in dict.values():\n",
    "        return True\n",
    "    else:\n",
    "        return False\n",
    "\n",
    "myDict = {'city': 'Berlin', 'name': 'Florian'}\n",
    "myVal = 'Nadia'\n",
    "\n",
    "inThisDict(myDict,myVal) "
   ]
  },
  {
   "cell_type": "markdown",
   "metadata": {},
   "source": [
    "Modify the function from task 1 above to return a tuple with two elements, the first is the boolean True or False based on whether the value is in the dictionary (same as in task 1), and the second is a key in the dictionary that maps to that value (if the value is in the dictionary) or None otherwise.\n",
    "\n",
    "→ Examples:\n",
    "\t{\"name\": \"Karla\", \"age\": 25, \"city\": \"Berlin\"}, \"Berlin\" → (True, \"city\")\n",
    "\t{\"name\": \"Karla\", \"age\": 25, \"city\": \"Berlin\"}, \"city\" → (False, None)"
   ]
  },
  {
   "cell_type": "code",
   "execution_count": 64,
   "metadata": {},
   "outputs": [
    {
     "data": {
      "text/plain": [
       "(True, 'name')"
      ]
     },
     "execution_count": 64,
     "metadata": {},
     "output_type": "execute_result"
    }
   ],
   "source": [
    "def inThisDict(dict,val):\n",
    "    for key, value in dict.items():\n",
    "        if val == value:\n",
    "            return True, key \n",
    "    else:\n",
    "        return False, None\n",
    "\n",
    "myDict = {\"name\": \"Florian\", \"age\": 25, \"city\": \"Berlin\"}\n",
    "myVal = 'Florian'\n",
    "\n",
    "inThisDict(myDict,myVal)"
   ]
  },
  {
   "cell_type": "markdown",
   "metadata": {},
   "source": [
    "Write a function that takes in two dictionaries as arguments and merges them, i.e. returns one dictionary with all the key-value pairs from both dictionaries.\n",
    "\n",
    "→ Example:\n",
    "\t{\"school\": \"TU\", \"letters\": [\"a\", \"b\"]}, {\"stuff\": \"things\"} → {\"school\": \"TU\", \"letters\": [\"a\", \"b\"], \"stuff\": \"things\"}\n"
   ]
  },
  {
   "cell_type": "code",
   "execution_count": 86,
   "metadata": {},
   "outputs": [
    {
     "data": {
      "text/plain": [
       "{'school': 'TU', 'letters': ['a', 'b'], 'stuff': 'things'}"
      ]
     },
     "execution_count": 86,
     "metadata": {},
     "output_type": "execute_result"
    }
   ],
   "source": [
    "def dictMerge(dict_0,dict_1):\n",
    "    dict_merged = dict_0.copy()\n",
    "    dict_merged.update(dict_1)\n",
    "    #In Python 3.5 or greater: dict_merged = {**dict_0,**dict_1}\n",
    "    return dict_merged\n",
    "\n",
    "dictZero = {\"school\": \"TU\", \"letters\": [\"a\", \"b\"]}\n",
    "dictOne =  {\"stuff\": \"things\"}\n",
    "\n",
    "dictMerge(dictZero,dictOne)\n"
   ]
  },
  {
   "cell_type": "markdown",
   "metadata": {},
   "source": [
    "Write a function that takes in a list of numbers and squares each number in the list.\n",
    "\n",
    "→ Example:\n",
    "\t[1, 5, 6, -3, 0] → [1, 25, 36, 9, 0]\n"
   ]
  },
  {
   "cell_type": "code",
   "execution_count": 99,
   "metadata": {},
   "outputs": [
    {
     "data": {
      "text/plain": [
       "[1, 25, 36, 9, 0]"
      ]
     },
     "execution_count": 99,
     "metadata": {},
     "output_type": "execute_result"
    }
   ],
   "source": [
    "def squaresEachNumber(list):\n",
    "    newList = [i**2 for i in list]\n",
    "    return newList\n",
    "\n",
    "myList = [1, 5, 6, -3, 0]\n",
    "\n",
    "squaresEachNumber(myList)"
   ]
  },
  {
   "cell_type": "markdown",
   "metadata": {},
   "source": [
    "Write a function that takes in a list of arbitrary values (strings, ints, floats, booleans, …) and returns a list with only the strings remaining (i.e. filters out all non-strings).\n",
    "\n",
    "→ Example:\n",
    "\t['a', 13132, 'asdf', [1, 2, 4], True] → ['a', 'asdf']\n",
    "\t[1, 2, 3, True] → [ ]\n"
   ]
  },
  {
   "cell_type": "code",
   "execution_count": 140,
   "metadata": {},
   "outputs": [
    {
     "data": {
      "text/plain": [
       "['a', 'asdf']"
      ]
     },
     "execution_count": 140,
     "metadata": {},
     "output_type": "execute_result"
    }
   ],
   "source": [
    "def findStrings(i):\n",
    "    if type(i) == str:\n",
    "        return True\n",
    "    else:\n",
    "        return False\n",
    "\n",
    "def filtersForStrings(unfilteredList):\n",
    "    filteredList = list(filter(findStrings,unfilteredList))\n",
    "    return filteredList\n",
    "\n",
    "newList = ['a', 13132, 'asdf', [1, 2, 4], True]\n",
    "\n",
    "filtersForStrings(newList)\n",
    " \n"
   ]
  },
  {
   "cell_type": "code",
   "execution_count": 145,
   "metadata": {},
   "outputs": [
    {
     "data": {
      "text/plain": [
       "['a', 'asdf']"
      ]
     },
     "execution_count": 145,
     "metadata": {},
     "output_type": "execute_result"
    }
   ],
   "source": [
    "def filtersForStrings(list):\n",
    "    filteredList = [i for i in list if isinstance(i, str)]\n",
    "    return filteredList\n",
    "\n",
    "newList = ['a', 13132, 'asdf', [1, 2, 4], True]\n",
    "\n",
    "filtersForStrings(newList)"
   ]
  },
  {
   "cell_type": "code",
   "execution_count": 1,
   "metadata": {},
   "outputs": [
    {
     "data": {
      "text/plain": [
       "[1, 3, 'j']"
      ]
     },
     "execution_count": 1,
     "metadata": {},
     "output_type": "execute_result"
    }
   ],
   "source": [
    "list = [1,3,\"j\"]\n",
    "newList = [i for i in list]\n",
    "newList"
   ]
  }
 ],
 "metadata": {
  "kernelspec": {
   "display_name": "Python 3.10.8 64-bit",
   "language": "python",
   "name": "python3"
  },
  "language_info": {
   "codemirror_mode": {
    "name": "ipython",
    "version": 3
   },
   "file_extension": ".py",
   "mimetype": "text/x-python",
   "name": "python",
   "nbconvert_exporter": "python",
   "pygments_lexer": "ipython3",
   "version": "3.10.8"
  },
  "orig_nbformat": 4,
  "vscode": {
   "interpreter": {
    "hash": "25759ddffe5ba3af3c29cfc76720c4355e55321fe1aceed06d16227b0eb342a9"
   }
  }
 },
 "nbformat": 4,
 "nbformat_minor": 2
}
